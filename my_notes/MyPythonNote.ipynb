{
 "cells": [
  {
   "cell_type": "markdown",
   "id": "0da532b1",
   "metadata": {},
   "source": [
    "# number types\n",
    "\n",
    "1. integers (int) which are whole number Example: => 1, 23, 100, 1200 etc...\n",
    "2. floating (float) point numbers which are numbers with a decimal. Example: => 1.05, 23.0, 100.1, 1200.333 etc...\n"
   ]
  },
  {
   "cell_type": "code",
   "execution_count": null,
   "id": "b7087d24",
   "metadata": {},
   "outputs": [],
   "source": []
  }
 ],
 "metadata": {
  "kernelspec": {
   "display_name": "Python 3 (ipykernel)",
   "language": "python",
   "name": "python3"
  },
  "language_info": {
   "codemirror_mode": {
    "name": "ipython",
    "version": 3
   },
   "file_extension": ".py",
   "mimetype": "text/x-python",
   "name": "python",
   "nbconvert_exporter": "python",
   "pygments_lexer": "ipython3",
   "version": "3.9.13"
  }
 },
 "nbformat": 4,
 "nbformat_minor": 5
}
