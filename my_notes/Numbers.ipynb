{
 "cells": [
  {
   "cell_type": "markdown",
   "id": "ab9784f8",
   "metadata": {},
   "source": [
    "# number types\n",
    "\n",
    "1. integers (int) which are whole number Example: => 1, 23, 100, 1200 etc...\n",
    "2. floating (float) point numbers which are numbers with a decimal. Example: => 1.05, 23.0, 100.1, 1200.333 etc...\n"
   ]
  },
  {
   "cell_type": "markdown",
   "id": "1379f64e",
   "metadata": {},
   "source": [
    "\n",
    "\n",
    "\n",
    "\n",
    "Addition "
   ]
  },
  {
   "cell_type": "code",
   "execution_count": 1,
   "id": "cb6efeab",
   "metadata": {},
   "outputs": [
    {
     "name": "stdout",
     "output_type": "stream",
     "text": [
      "3\n"
     ]
    }
   ],
   "source": [
    "# Addition example 1\n",
    "\n",
    "print(1 + 2)"
   ]
  },
  {
   "cell_type": "code",
   "execution_count": 2,
   "id": "38f3c5d3",
   "metadata": {},
   "outputs": [
    {
     "name": "stdout",
     "output_type": "stream",
     "text": [
      "15\n"
     ]
    }
   ],
   "source": [
    "# Addition example 2\n",
    "\n",
    "print(1 + 2 + 3 + 4 + 5)"
   ]
  },
  {
   "cell_type": "markdown",
   "id": "e8d2d450",
   "metadata": {},
   "source": [
    "Subtraction"
   ]
  },
  {
   "cell_type": "code",
   "execution_count": 8,
   "id": "c860047c",
   "metadata": {},
   "outputs": [
    {
     "name": "stdout",
     "output_type": "stream",
     "text": [
      "1\n"
     ]
    }
   ],
   "source": [
    "# Substraction example 1 \n",
    "\n",
    "print(2 - 1)"
   ]
  },
  {
   "cell_type": "code",
   "execution_count": 9,
   "id": "6bf6c5ff",
   "metadata": {},
   "outputs": [
    {
     "name": "stdout",
     "output_type": "stream",
     "text": [
      "-2\n"
     ]
    }
   ],
   "source": [
    "# Subtraction example 2\n",
    "\n",
    "print(1 - 3)"
   ]
  },
  {
   "cell_type": "code",
   "execution_count": 10,
   "id": "b6d079a2",
   "metadata": {},
   "outputs": [
    {
     "name": "stdout",
     "output_type": "stream",
     "text": [
      "20\n"
     ]
    }
   ],
   "source": [
    "# Substraction example 3 \n",
    "\n",
    "print(100 - 50 - 20 - 10)"
   ]
  },
  {
   "cell_type": "markdown",
   "id": "44847f7a",
   "metadata": {},
   "source": [
    "Multiplication"
   ]
  },
  {
   "cell_type": "code",
   "execution_count": 11,
   "id": "7ffe5a7b",
   "metadata": {},
   "outputs": [
    {
     "name": "stdout",
     "output_type": "stream",
     "text": [
      "14\n"
     ]
    }
   ],
   "source": [
    "# Multiplication example 1\n",
    "\n",
    "print(7 * 2)"
   ]
  },
  {
   "cell_type": "code",
   "execution_count": 12,
   "id": "53dc66d9",
   "metadata": {},
   "outputs": [
    {
     "name": "stdout",
     "output_type": "stream",
     "text": [
      "1890\n"
     ]
    }
   ],
   "source": [
    "# Multiplication example 2\n",
    "\n",
    "print(2 * 7 * 9 * 15)"
   ]
  },
  {
   "cell_type": "markdown",
   "id": "a40bce75",
   "metadata": {},
   "source": [
    "Division"
   ]
  },
  {
   "cell_type": "code",
   "execution_count": 13,
   "id": "bc996965",
   "metadata": {},
   "outputs": [
    {
     "name": "stdout",
     "output_type": "stream",
     "text": [
      "4.0\n"
     ]
    }
   ],
   "source": [
    "# division example 1\n",
    "\n",
    "print(12 / 3)"
   ]
  },
  {
   "cell_type": "code",
   "execution_count": 14,
   "id": "a7bf7f1e",
   "metadata": {},
   "outputs": [
    {
     "name": "stdout",
     "output_type": "stream",
     "text": [
      "0.01\n"
     ]
    }
   ],
   "source": [
    "# division example 1\n",
    "\n",
    "print(100 / 50 / 20 / 10)"
   ]
  },
  {
   "cell_type": "markdown",
   "id": "5ac9b6bf",
   "metadata": {},
   "source": [
    "Power"
   ]
  },
  {
   "cell_type": "code",
   "execution_count": 15,
   "id": "c0b5a4a5",
   "metadata": {},
   "outputs": [
    {
     "name": "stdout",
     "output_type": "stream",
     "text": [
      "8\n"
     ]
    }
   ],
   "source": [
    "# power example 1\n",
    "\n",
    "print(2 ** 3)"
   ]
  },
  {
   "cell_type": "code",
   "execution_count": 17,
   "id": "0536a518",
   "metadata": {},
   "outputs": [
    {
     "name": "stdout",
     "output_type": "stream",
     "text": [
      "10000\n"
     ]
    }
   ],
   "source": [
    "# power example 2\n",
    "\n",
    "print(10 ** 4)"
   ]
  },
  {
   "cell_type": "markdown",
   "id": "1b323566",
   "metadata": {},
   "source": [
    "Modulo or Mod Operator\n",
    "\n",
    "1. Mostly used in cases where you want to know if a number is Even or Odd\n",
    "2. we can also say that, it is how many times a number enters in an other number \n",
    "3. we can also say that, it is that remains after dividing a number by an other number\n",
    "\n",
    "quick exp...\n",
    "\n",
    "1. if you divid 12 by 4 you will get 4 and remainder 0 (zero)\n",
    "2. if you divid 12 by 5 you will get 2 and remainder 2 (two)\n",
    "\n",
    "how do I know is a number is \"Even\" or \"Odd\" ?\n",
    "\n",
    "1. if you get zero as a remainder then it is \"Even\"\n",
    "2. if you get a result other than 0 (zero) then we have an \"Odd\" number\n"
   ]
  },
  {
   "cell_type": "code",
   "execution_count": 20,
   "id": "f36b5814",
   "metadata": {},
   "outputs": [
    {
     "name": "stdout",
     "output_type": "stream",
     "text": [
      "0\n"
     ]
    }
   ],
   "source": [
    "# Modulo example 1\n",
    "\n",
    "print(12 % 4)"
   ]
  },
  {
   "cell_type": "code",
   "execution_count": 21,
   "id": "457692a8",
   "metadata": {},
   "outputs": [
    {
     "name": "stdout",
     "output_type": "stream",
     "text": [
      "2\n"
     ]
    }
   ],
   "source": [
    "# Modulo example 2\n",
    "\n",
    "print(12 % 5)"
   ]
  },
  {
   "cell_type": "markdown",
   "id": "539b04cf",
   "metadata": {},
   "source": [
    "Operations"
   ]
  },
  {
   "cell_type": "code",
   "execution_count": 22,
   "id": "4733c33d",
   "metadata": {},
   "outputs": [
    {
     "name": "stdout",
     "output_type": "stream",
     "text": [
      "30.0\n"
     ]
    }
   ],
   "source": [
    "# Operation example 1\n",
    "\n",
    "print( 12 + 4 * 5 - 2 ** 4 / 8)"
   ]
  },
  {
   "cell_type": "code",
   "execution_count": 29,
   "id": "acc5d5a3",
   "metadata": {},
   "outputs": [
    {
     "name": "stdout",
     "output_type": "stream",
     "text": [
      "2.662629757785467\n"
     ]
    }
   ],
   "source": [
    "# Operation example 2\n",
    "\n",
    "# [(2+4)^4 X (12-2.5)] / [4(6+7X4)^2]\n",
    "\n",
    "\n",
    "print(((2+4)**4 * (12-2.5))/(4*(6+7*4)**2))"
   ]
  },
  {
   "cell_type": "markdown",
   "id": "a09d9ab9",
   "metadata": {},
   "source": [
    "# Variable Assignments"
   ]
  },
  {
   "cell_type": "code",
   "execution_count": 2,
   "id": "3fe18cd0",
   "metadata": {},
   "outputs": [
    {
     "name": "stdout",
     "output_type": "stream",
     "text": [
      "100\n"
     ]
    }
   ],
   "source": [
    "a =100\n",
    "\n",
    "print(a)"
   ]
  },
  {
   "cell_type": "code",
   "execution_count": 7,
   "id": "684732ea",
   "metadata": {},
   "outputs": [
    {
     "name": "stdout",
     "output_type": "stream",
     "text": [
      "105\n"
     ]
    },
    {
     "data": {
      "text/plain": [
       "int"
      ]
     },
     "execution_count": 7,
     "metadata": {},
     "output_type": "execute_result"
    }
   ],
   "source": [
    "a = 100 \n",
    "b = 5 \n",
    "c = a + b \n",
    "\n",
    "print(c)\n",
    "type(c)"
   ]
  },
  {
   "cell_type": "code",
   "execution_count": 11,
   "id": "5b42b06e",
   "metadata": {},
   "outputs": [
    {
     "name": "stdout",
     "output_type": "stream",
     "text": [
      "56.0\n"
     ]
    },
    {
     "data": {
      "text/plain": [
       "float"
      ]
     },
     "execution_count": 11,
     "metadata": {},
     "output_type": "execute_result"
    }
   ],
   "source": [
    "a = 10 \n",
    "b = 35\n",
    "d = (b / 10) * 2**4\n",
    "\n",
    "print(d)\n",
    "type(d)"
   ]
  },
  {
   "cell_type": "code",
   "execution_count": 21,
   "id": "4b2049b3",
   "metadata": {},
   "outputs": [
    {
     "name": "stdout",
     "output_type": "stream",
     "text": [
      "4100\n"
     ]
    }
   ],
   "source": [
    "my_income = 4500\n",
    "my_rent = 400\n",
    "money_left = my_income - my_rent\n",
    "\n",
    "print(money_left)\n"
   ]
  },
  {
   "cell_type": "code",
   "execution_count": 24,
   "id": "cf7c7ebc",
   "metadata": {},
   "outputs": [
    {
     "name": "stdout",
     "output_type": "stream",
     "text": [
      "the sum of 140 and 160 is equal to 300\n"
     ]
    }
   ],
   "source": [
    "e = 140\n",
    "f = 160\n",
    "l = e + f\n",
    "print(\"the sum of {} and {} is equal to {}\".format(e, f, l))"
   ]
  },
  {
   "cell_type": "markdown",
   "id": "3710ef1c",
   "metadata": {},
   "source": [
    "# Strings"
   ]
  },
  {
   "cell_type": "code",
   "execution_count": 20,
   "id": "c035147f",
   "metadata": {},
   "outputs": [
    {
     "name": "stdout",
     "output_type": "stream",
     "text": [
      "Cremona\n",
      "Lambert\n",
      "Cremona Lambert\n"
     ]
    }
   ],
   "source": [
    "firstname = \"Cremona\"     # it doesn't matter with single quote or double\n",
    "lastname = 'Lambert'\n",
    "\n",
    "print(firstname)\n",
    "print(lastname)\n",
    "\n",
    "fullname = firstname + ' ' + lastname   # you can soin two strings with a plus sign +\n",
    "\n",
    "print(fullname)"
   ]
  },
  {
   "cell_type": "code",
   "execution_count": 31,
   "id": "295a63a7",
   "metadata": {},
   "outputs": [
    {
     "name": "stdout",
     "output_type": "stream",
     "text": [
      "Cremona Lambert\n",
      "m\n",
      "15\n",
      "Cremona \n"
     ]
    }
   ],
   "source": [
    "# \"cremona lambert\" is our fullname just reminding you \n",
    "\n",
    "print(fullname)\n",
    "\n",
    "print(fullname[3])   # it starts counting from index --> 0, 1, 2, 3...etc \n",
    "\n",
    "print(len(fullname))  # len is the lenght in cremona lambert (15)\n",
    "\n",
    "print(fullname[0 : 8]) # this is how we use slice in python"
   ]
  },
  {
   "cell_type": "code",
   "execution_count": 35,
   "id": "84ad61e6",
   "metadata": {},
   "outputs": [
    {
     "name": "stdout",
     "output_type": "stream",
     "text": [
      "7\n",
      "o\n",
      "o\n"
     ]
    }
   ],
   "source": [
    "# how do we get the same solution with the positive and negative indexing \n",
    "# [abcdefg] -> a = 0 index, b = 1 index, and so on!... we can also say that a = -7 index, g = 6 or -1 index \n",
    "\n",
    "my_username = 'Cremona'    # let us get \"O\" in my_username\n",
    "\n",
    "print(len(my_username))\n",
    "\n",
    "print(my_username[4]) # we got \"O\" with index [4] let us look at the other way\n",
    "\n",
    "print(my_username[-3]) # starting with g as -1 we got \"o\" at index [-3]"
   ]
  },
  {
   "cell_type": "code",
   "execution_count": null,
   "id": "57c6186e",
   "metadata": {},
   "outputs": [],
   "source": []
  },
  {
   "cell_type": "code",
   "execution_count": null,
   "id": "5be650fc",
   "metadata": {},
   "outputs": [],
   "source": []
  }
 ],
 "metadata": {
  "kernelspec": {
   "display_name": "Python 3 (ipykernel)",
   "language": "python",
   "name": "python3"
  },
  "language_info": {
   "codemirror_mode": {
    "name": "ipython",
    "version": 3
   },
   "file_extension": ".py",
   "mimetype": "text/x-python",
   "name": "python",
   "nbconvert_exporter": "python",
   "pygments_lexer": "ipython3",
   "version": "3.9.13"
  }
 },
 "nbformat": 4,
 "nbformat_minor": 5
}
