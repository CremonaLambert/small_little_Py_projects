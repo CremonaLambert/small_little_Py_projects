{
 "cells": [
  {
   "cell_type": "markdown",
   "id": "ab9784f8",
   "metadata": {},
   "source": [
    "# number types\n",
    "\n",
    "1. integers (int) which are whole number Example: => 1, 23, 100, 1200 etc...\n",
    "2. floating (float) point numbers which are numbers with a decimal. Example: => 1.05, 23.0, 100.1, 1200.333 etc...\n"
   ]
  },
  {
   "cell_type": "markdown",
   "id": "1379f64e",
   "metadata": {},
   "source": [
    "\n",
    "\n",
    "\n",
    "\n",
    "Addition "
   ]
  },
  {
   "cell_type": "code",
   "execution_count": 1,
   "id": "cb6efeab",
   "metadata": {},
   "outputs": [
    {
     "name": "stdout",
     "output_type": "stream",
     "text": [
      "3\n"
     ]
    }
   ],
   "source": [
    "# Addition example 1\n",
    "\n",
    "print(1 + 2)"
   ]
  },
  {
   "cell_type": "code",
   "execution_count": 2,
   "id": "38f3c5d3",
   "metadata": {},
   "outputs": [
    {
     "name": "stdout",
     "output_type": "stream",
     "text": [
      "15\n"
     ]
    }
   ],
   "source": [
    "# Addition example 2\n",
    "\n",
    "print(1 + 2 + 3 + 4 + 5)"
   ]
  },
  {
   "cell_type": "markdown",
   "id": "e8d2d450",
   "metadata": {},
   "source": [
    "Subtraction"
   ]
  },
  {
   "cell_type": "code",
   "execution_count": 8,
   "id": "c860047c",
   "metadata": {},
   "outputs": [
    {
     "name": "stdout",
     "output_type": "stream",
     "text": [
      "1\n"
     ]
    }
   ],
   "source": [
    "# Substraction example 1 \n",
    "\n",
    "print(2 - 1)"
   ]
  },
  {
   "cell_type": "code",
   "execution_count": 9,
   "id": "6bf6c5ff",
   "metadata": {},
   "outputs": [
    {
     "name": "stdout",
     "output_type": "stream",
     "text": [
      "-2\n"
     ]
    }
   ],
   "source": [
    "# Subtraction example 2\n",
    "\n",
    "print(1 - 3)"
   ]
  },
  {
   "cell_type": "code",
   "execution_count": 10,
   "id": "b6d079a2",
   "metadata": {},
   "outputs": [
    {
     "name": "stdout",
     "output_type": "stream",
     "text": [
      "20\n"
     ]
    }
   ],
   "source": [
    "# Substraction example 3 \n",
    "\n",
    "print(100 - 50 - 20 - 10)"
   ]
  },
  {
   "cell_type": "markdown",
   "id": "44847f7a",
   "metadata": {},
   "source": [
    "Multiplication"
   ]
  },
  {
   "cell_type": "code",
   "execution_count": 11,
   "id": "7ffe5a7b",
   "metadata": {},
   "outputs": [
    {
     "name": "stdout",
     "output_type": "stream",
     "text": [
      "14\n"
     ]
    }
   ],
   "source": [
    "# Multiplication example 1\n",
    "\n",
    "print(7 * 2)"
   ]
  },
  {
   "cell_type": "code",
   "execution_count": 12,
   "id": "53dc66d9",
   "metadata": {},
   "outputs": [
    {
     "name": "stdout",
     "output_type": "stream",
     "text": [
      "1890\n"
     ]
    }
   ],
   "source": [
    "# Multiplication example 2\n",
    "\n",
    "print(2 * 7 * 9 * 15)"
   ]
  },
  {
   "cell_type": "markdown",
   "id": "a40bce75",
   "metadata": {},
   "source": [
    "Division"
   ]
  },
  {
   "cell_type": "code",
   "execution_count": 13,
   "id": "bc996965",
   "metadata": {},
   "outputs": [
    {
     "name": "stdout",
     "output_type": "stream",
     "text": [
      "4.0\n"
     ]
    }
   ],
   "source": [
    "# division example 1\n",
    "\n",
    "print(12 / 3)"
   ]
  },
  {
   "cell_type": "code",
   "execution_count": 14,
   "id": "a7bf7f1e",
   "metadata": {},
   "outputs": [
    {
     "name": "stdout",
     "output_type": "stream",
     "text": [
      "0.01\n"
     ]
    }
   ],
   "source": [
    "# division example 1\n",
    "\n",
    "print(100 / 50 / 20 / 10)"
   ]
  },
  {
   "cell_type": "markdown",
   "id": "5ac9b6bf",
   "metadata": {},
   "source": [
    "Power"
   ]
  },
  {
   "cell_type": "code",
   "execution_count": 15,
   "id": "c0b5a4a5",
   "metadata": {},
   "outputs": [
    {
     "name": "stdout",
     "output_type": "stream",
     "text": [
      "8\n"
     ]
    }
   ],
   "source": [
    "# power example 1\n",
    "\n",
    "print(2 ** 3)"
   ]
  },
  {
   "cell_type": "code",
   "execution_count": 17,
   "id": "0536a518",
   "metadata": {},
   "outputs": [
    {
     "name": "stdout",
     "output_type": "stream",
     "text": [
      "10000\n"
     ]
    }
   ],
   "source": [
    "# power example 2\n",
    "\n",
    "print(10 ** 4)"
   ]
  },
  {
   "cell_type": "markdown",
   "id": "1b323566",
   "metadata": {},
   "source": [
    "Modulo or Mod Operator\n",
    "\n",
    "1. Mostly used in cases where you want to know if a number is Even or Odd\n",
    "2. we can also say that, it is how many times a number enters in an other number \n",
    "3. we can also say that, it is that remains after dividing a number by an other number\n",
    "\n",
    "quick exp...\n",
    "\n",
    "1. if you divid 12 by 4 you will get 4 and remainder 0 (zero)\n",
    "2. if you divid 12 by 5 you will get 2 and remainder 2 (two)\n",
    "\n",
    "how do I know is a number is \"Even\" or \"Odd\" ?\n",
    "\n",
    "1. if you get zero as a remainder then it is \"Even\"\n",
    "2. if you get a result other than 0 (zero) then we have an \"Odd\" number\n"
   ]
  },
  {
   "cell_type": "code",
   "execution_count": 20,
   "id": "f36b5814",
   "metadata": {},
   "outputs": [
    {
     "name": "stdout",
     "output_type": "stream",
     "text": [
      "0\n"
     ]
    }
   ],
   "source": [
    "# Modulo example 1\n",
    "\n",
    "print(12 % 4)"
   ]
  },
  {
   "cell_type": "code",
   "execution_count": 21,
   "id": "457692a8",
   "metadata": {},
   "outputs": [
    {
     "name": "stdout",
     "output_type": "stream",
     "text": [
      "2\n"
     ]
    }
   ],
   "source": [
    "# Modulo example 2\n",
    "\n",
    "print(12 % 5)"
   ]
  },
  {
   "cell_type": "markdown",
   "id": "539b04cf",
   "metadata": {},
   "source": [
    "Operations"
   ]
  },
  {
   "cell_type": "code",
   "execution_count": 22,
   "id": "4733c33d",
   "metadata": {},
   "outputs": [
    {
     "name": "stdout",
     "output_type": "stream",
     "text": [
      "30.0\n"
     ]
    }
   ],
   "source": [
    "# Operation example 1\n",
    "\n",
    "print( 12 + 4 * 5 - 2 ** 4 / 8)"
   ]
  },
  {
   "cell_type": "code",
   "execution_count": 29,
   "id": "acc5d5a3",
   "metadata": {},
   "outputs": [
    {
     "name": "stdout",
     "output_type": "stream",
     "text": [
      "2.662629757785467\n"
     ]
    }
   ],
   "source": [
    "# Operation example 2\n",
    "\n",
    "# [(2+4)^4 X (12-2.5)] / [4(6+7X4)^2]\n",
    "\n",
    "\n",
    "print(((2+4)**4 * (12-2.5))/(4*(6+7*4)**2))"
   ]
  },
  {
   "cell_type": "code",
   "execution_count": null,
   "id": "427e0456",
   "metadata": {},
   "outputs": [],
   "source": []
  }
 ],
 "metadata": {
  "kernelspec": {
   "display_name": "Python 3 (ipykernel)",
   "language": "python",
   "name": "python3"
  },
  "language_info": {
   "codemirror_mode": {
    "name": "ipython",
    "version": 3
   },
   "file_extension": ".py",
   "mimetype": "text/x-python",
   "name": "python",
   "nbconvert_exporter": "python",
   "pygments_lexer": "ipython3",
   "version": "3.9.13"
  }
 },
 "nbformat": 4,
 "nbformat_minor": 5
}
